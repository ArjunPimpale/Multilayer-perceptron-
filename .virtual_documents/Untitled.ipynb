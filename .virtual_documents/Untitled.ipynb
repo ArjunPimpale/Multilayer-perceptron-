from Valueclass.ipynb import Neuron,Layer,MLP



